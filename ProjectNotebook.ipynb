{
 "cells": [
  {
   "cell_type": "markdown",
   "id": "7e0c5f54",
   "metadata": {},
   "source": [
    "## Project \n",
    "Telecom Customer Churn Analysis\n",
    "## Business Contest\n",
    "SyriaTel, a telecommunications company, faces significant revenue losses due to customer churn. Customer acquisition costs are substantially higher than retention costs, making it crucial to identify and retain at-risk customers before they switch to competitors.\n",
    "## Problem Defination\n",
    "-The company currently lacks the ability to proactively identify customers who are likely to churn, resulting in:\n",
    "-Revenue Loss: Customers leaving without warning\n",
    "-Inefficient Spending: Blanket retention campaigns targeting all customers\n",
    "-Reactive Approach: Only addressing churn after customers have already left\n",
    "-Resource Misallocation: Limited retention budget not optimally distributed\n",
    "## Business Questions\n",
    "1.What are the strongest predictors of customer churn?\n",
    "2.Which customers are most likely to churn ?\n",
    "3.What usage patterns differentiate churners from loyal customers?"
   ]
  },
  {
   "cell_type": "markdown",
   "id": "19f2f178",
   "metadata": {},
   "source": [
    "### Step 1: Import libraries\n",
    "Load core data (pandas/numpy), statsmodels for regression, and scikit‑learn tools (DecisionTree, train/test split, metrics) used throughout the churn analysis."
   ]
  },
  {
   "cell_type": "code",
   "execution_count": 204,
   "id": "8c897a44",
   "metadata": {},
   "outputs": [],
   "source": [
    "import pandas as pd\n",
    "import numpy as np\n",
    "import statsmodels.api as sm\n",
    "from sklearn.tree import DecisionTreeClassifier, plot_tree, export_text\n",
    "from sklearn.model_selection import train_test_split\n",
    "from sklearn.metrics import accuracy_score, classification_report, confusion_matrix\n",
    "from sklearn.linear_model import LogisticRegression\n",
    "from sklearn.preprocessing import StandardScaler\n",
    "from sklearn.model_selection import train_test_split\n",
    "from sklearn.metrics import accuracy_score\n",
    "import matplotlib.pyplot as plt\n",
    "import seaborn as sns\n",
    "import warnings\n",
    "warnings.filterwarnings('ignore')\n",
    "\n",
    "df = pd.read_csv(\"Data Folder/bigml_59c28831336c6604c800002a.csv\", encoding='utf-8', index_col=0)\n"
   ]
  },
  {
   "cell_type": "markdown",
   "id": "f7f2663b",
   "metadata": {},
   "source": [
    "### Data Understanding\n",
    "Print column names, show the first rows, dataset shape and dtypes to understand what fields are available in the telecom churn data."
   ]
  },
  {
   "cell_type": "code",
   "execution_count": 205,
   "id": "1324ecad",
   "metadata": {},
   "outputs": [
    {
     "name": "stdout",
     "output_type": "stream",
     "text": [
      " Dataset Shape: (3333, 20)\n",
      "\n",
      " Data Types:\n",
      "int64      8\n",
      "float64    8\n",
      "object     3\n",
      "bool       1\n",
      "dtype: int64\n",
      "\n",
      " Missing Values: 0\n",
      "\n",
      " Target Distribution:\n",
      "False    2850\n",
      "True      483\n",
      "Name: churn, dtype: int64\n",
      "Churn Rate: 14.5%\n",
      "\n",
      " Numerical Summary:\n",
      "       account length    area code  number vmail messages  total day minutes  \\\n",
      "count     3333.000000  3333.000000             3333.00000        3333.000000   \n",
      "mean       101.064806   437.182418                8.09901         179.775098   \n",
      "\n",
      "       total day calls  total day charge  total eve minutes  total eve calls  \\\n",
      "count      3333.000000       3333.000000        3333.000000      3333.000000   \n",
      "mean        100.435644         30.562307         200.980348       100.114311   \n",
      "\n",
      "       total eve charge  total night minutes  total night calls  \\\n",
      "count        3333.00000          3333.000000        3333.000000   \n",
      "mean           17.08354           200.872037         100.107711   \n",
      "\n",
      "       total night charge  total intl minutes  total intl calls  \\\n",
      "count         3333.000000         3333.000000       3333.000000   \n",
      "mean             9.039325           10.237294          4.479448   \n",
      "\n",
      "       total intl charge  customer service calls  \n",
      "count        3333.000000             3333.000000  \n",
      "mean            2.764581                1.562856  \n",
      "\n",
      " Sample Data:\n",
      "       account length  area code phone number international plan  \\\n",
      "state                                                              \n",
      "KS                128        415     382-4657                 no   \n",
      "OH                107        415     371-7191                 no   \n",
      "NJ                137        415     358-1921                 no   \n",
      "\n",
      "      voice mail plan  number vmail messages  total day minutes  \\\n",
      "state                                                             \n",
      "KS                yes                     25              265.1   \n",
      "OH                yes                     26              161.6   \n",
      "NJ                 no                      0              243.4   \n",
      "\n",
      "       total day calls  total day charge  total eve minutes  total eve calls  \\\n",
      "state                                                                          \n",
      "KS                 110             45.07              197.4               99   \n",
      "OH                 123             27.47              195.5              103   \n",
      "NJ                 114             41.38              121.2              110   \n",
      "\n",
      "       total eve charge  total night minutes  total night calls  \\\n",
      "state                                                             \n",
      "KS                16.78                244.7                 91   \n",
      "OH                16.62                254.4                103   \n",
      "NJ                10.30                162.6                104   \n",
      "\n",
      "       total night charge  total intl minutes  total intl calls  \\\n",
      "state                                                             \n",
      "KS                  11.01                10.0                 3   \n",
      "OH                  11.45                13.7                 3   \n",
      "NJ                   7.32                12.2                 5   \n",
      "\n",
      "       total intl charge  customer service calls  churn  \n",
      "state                                                    \n",
      "KS                  2.70                       1  False  \n",
      "OH                  3.70                       1  False  \n",
      "NJ                  3.29                       0  False  \n"
     ]
    }
   ],
   "source": [
    "# Quick data understanding\n",
    "print(\" Dataset Shape:\", df.shape)\n",
    "print(\"\\n Data Types:\")\n",
    "print(df.dtypes.value_counts())\n",
    "\n",
    "print(\"\\n Missing Values:\", df.isnull().sum().sum())\n",
    "\n",
    "print(\"\\n Target Distribution:\")\n",
    "print(df['churn'].value_counts())\n",
    "print(f\"Churn Rate: {df['churn'].mean():.1%}\")\n",
    "\n",
    "print(\"\\n Numerical Summary:\")\n",
    "print(df.describe().iloc[:2])  # Just count and mean\n",
    "\n",
    "print(\"\\n Sample Data:\")\n",
    "print(df.head(3))"
   ]
  },
  {
   "cell_type": "markdown",
   "id": "75ebfa6b",
   "metadata": {},
   "source": [
    "### Select modeling features\n",
    "Creating the features in the data in the  interaction fields that will be used as candidate predictors of churn."
   ]
  },
  {
   "cell_type": "code",
   "execution_count": 206,
   "id": "c4e17435",
   "metadata": {},
   "outputs": [],
   "source": [
    "features = ['account length', 'total day minutes', 'total day calls', 'total day charge',\n",
    "           'total eve minutes', 'total eve calls', 'total eve charge',\n",
    "           'total night minutes', 'total night calls', 'total night charge',\n",
    "           'total intl minutes', 'total intl calls', 'total intl charge',\n",
    "           'customer service calls', 'number vmail messages']"
   ]
  },
  {
   "cell_type": "markdown",
   "id": "754bebd2",
   "metadata": {},
   "source": [
    "### Prepare target & clean data\n",
    "Convert churn boolean to binary 0/1, drop rows w/ missing key features, and keep only selected modeling columns."
   ]
  },
  {
   "cell_type": "code",
   "execution_count": 207,
   "id": "16bb363e",
   "metadata": {},
   "outputs": [
    {
     "name": "stdout",
     "output_type": "stream",
     "text": [
      "Dataset shape after cleaning: (3333, 21)\n",
      "\n",
      "Churn distribution:\n",
      "False    2850\n",
      "True      483\n",
      "Name: churn, dtype: int64\n",
      "Churn rate: 0.145\n",
      "\n",
      "First 5 rows:\n",
      "       account length  area code phone number international plan  \\\n",
      "state                                                              \n",
      "KS                128        415     382-4657                 no   \n",
      "OH                107        415     371-7191                 no   \n",
      "NJ                137        415     358-1921                 no   \n",
      "OH                 84        408     375-9999                yes   \n",
      "OK                 75        415     330-6626                yes   \n",
      "\n",
      "      voice mail plan  number vmail messages  total day minutes  \\\n",
      "state                                                             \n",
      "KS                yes                     25              265.1   \n",
      "OH                yes                     26              161.6   \n",
      "NJ                 no                      0              243.4   \n",
      "OH                 no                      0              299.4   \n",
      "OK                 no                      0              166.7   \n",
      "\n",
      "       total day calls  total day charge  total eve minutes  ...  \\\n",
      "state                                                        ...   \n",
      "KS                 110             45.07              197.4  ...   \n",
      "OH                 123             27.47              195.5  ...   \n",
      "NJ                 114             41.38              121.2  ...   \n",
      "OH                  71             50.90               61.9  ...   \n",
      "OK                 113             28.34              148.3  ...   \n",
      "\n",
      "       total eve charge  total night minutes  total night calls  \\\n",
      "state                                                             \n",
      "KS                16.78                244.7                 91   \n",
      "OH                16.62                254.4                103   \n",
      "NJ                10.30                162.6                104   \n",
      "OH                 5.26                196.9                 89   \n",
      "OK                12.61                186.9                121   \n",
      "\n",
      "       total night charge  total intl minutes  total intl calls  \\\n",
      "state                                                             \n",
      "KS                  11.01                10.0                 3   \n",
      "OH                  11.45                13.7                 3   \n",
      "NJ                   7.32                12.2                 5   \n",
      "OH                   8.86                 6.6                 7   \n",
      "OK                   8.41                10.1                 3   \n",
      "\n",
      "       total intl charge  customer service calls  churn  churn_binary  \n",
      "state                                                                  \n",
      "KS                  2.70                       1  False             0  \n",
      "OH                  3.70                       1  False             0  \n",
      "NJ                  3.29                       0  False             0  \n",
      "OH                  1.78                       2  False             0  \n",
      "OK                  2.73                       3  False             0  \n",
      "\n",
      "[5 rows x 21 columns]\n"
     ]
    }
   ],
   "source": [
    "# Convert churn to binary (1 for True, 0 for False)\n",
    "df['churn_binary'] = df['churn'].astype(int)\n",
    "\n",
    "# Handle missing values\n",
    "df.dropna(inplace=True)\n",
    "\n",
    "print(f\"Dataset shape after cleaning: {df.shape}\")\n",
    "print(f\"\\nChurn distribution:\")\n",
    "print(df['churn'].value_counts())\n",
    "print(f\"Churn rate: {df['churn_binary'].mean():.3f}\")\n",
    "\n",
    "# Display first few rows\n",
    "print(f\"\\nFirst 5 rows:\")\n",
    "print(df.head())"
   ]
  },
  {
   "cell_type": "markdown",
   "id": "9d3aa281",
   "metadata": {},
   "source": [
    "### Plot churn distribution\n",
    "Simple bar plot showing number of churned vs retained customers (class balance)."
   ]
  },
  {
   "cell_type": "code",
   "execution_count": 208,
   "id": "2de623a3",
   "metadata": {},
   "outputs": [
    {
     "data": {
      "image/png": "[encoded data removed]",
      "text/plain": [
       "<Figure size 432x288 with 1 Axes>"
      ]
     },
     "metadata": {
      "needs_background": "light"
     },
     "output_type": "display_data"
    }
   ],
   "source": [
    " # Simple bar chart for churn data\n",
    "plt.figure(figsize=(6, 4))\n",
    "sns.countplot(data=df, x='churn_binary')\n",
    "plt.title('Churn Distribution')\n",
    "plt.xlabel('Churn (0=No, 1=Yes)')\n",
    "plt.ylabel('Count')\n",
    "plt.show()"
   ]
  },
  {
   "cell_type": "markdown",
   "id": "4fcc9126",
   "metadata": {},
   "source": [
    "### Histograms of numeric features\n",
    "Visual scan of distributions (skew/outliers) for usage & charge variables."
   ]
  },
  {
   "cell_type": "code",
   "execution_count": 209,
   "id": "255a6877",
   "metadata": {},
   "outputs": [
    {
     "data": {
      "image/png": "[encoded data removed]",
      "text/plain": [
       "<Figure size 720x432 with 16 Axes>"
      ]
     },
     "metadata": {
      "needs_background": "light"
     },
     "output_type": "display_data"
    }
   ],
   "source": [
    "#All numerical features in one plot\n",
    "df[features].hist(figsize=(10, 6), bins=20)\n",
    "plt.suptitle('All Numerical Features Distribution')\n",
    "plt.tight_layout()\n",
    "plt.show()"
   ]
  },
  {
   "cell_type": "markdown",
   "id": "749da377",
   "metadata": {},
   "source": [
    "### Standardize numeric features\n",
    "Apply z‑score scaling to features to put them on comparable scale for models sensitive to magnitude."
   ]
  },
  {
   "cell_type": "code",
   "execution_count": 210,
   "id": "5d5aa6a2",
   "metadata": {},
   "outputs": [
    {
     "name": "stdout",
     "output_type": "stream",
     "text": [
      "Features standardized (mean=0, std=1)\n"
     ]
    }
   ],
   "source": [
    "# Standard Scaling (mean=0, std=1)\n",
    "scaler = StandardScaler()\n",
    "features = ['account length', 'total day minutes', 'total day calls', 'total day charge',\n",
    "           'total eve minutes', 'total eve calls', 'total eve charge',\n",
    "           'total night minutes', 'total night calls', 'total night charge',\n",
    "           'total intl minutes', 'total intl calls', 'total intl charge',\n",
    "           'customer service calls', 'number vmail messages']\n",
    "\n",
    "df[features] = scaler.fit_transform(df[features])\n",
    "print(\"Features standardized (mean=0, std=1)\")"
   ]
  },
  {
   "cell_type": "markdown",
   "id": "b0ff28c6",
   "metadata": {},
   "source": [
    "### Applying Smote to create balance and improve the minority recall wherebt the churn rate is very low"
   ]
  },
  {
   "cell_type": "code",
   "execution_count": 211,
   "id": "962e2ce9",
   "metadata": {},
   "outputs": [
    {
     "name": "stdout",
     "output_type": "stream",
     "text": [
      "\n",
      "Applying One-Hot Encoding...\n",
      "Final dataset shape: (3333, 19)\n",
      "✓ One-hot encoding complete!\n",
      "       account length  total day minutes  total day calls  total day charge  \\\n",
      "state                                                                         \n",
      "KS           0.676489           1.566767         0.476643          1.567036   \n",
      "OH           0.149065          -0.333738         1.124503         -0.334013   \n",
      "NJ           0.902529           1.168304         0.675985          1.168464   \n",
      "OH          -0.428590           2.196596        -1.466936          2.196759   \n",
      "OK          -0.654629          -0.240090         0.626149         -0.240041   \n",
      "\n",
      "       total eve minutes  total eve calls  total eve charge  \\\n",
      "state                                                         \n",
      "KS             -0.070610        -0.055940         -0.070427   \n",
      "OH             -0.108080         0.144867         -0.107549   \n",
      "NJ             -1.573383         0.496279         -1.573900   \n",
      "OH             -2.742865        -0.608159         -2.743268   \n",
      "OK             -1.038932         1.098699         -1.037939   \n",
      "\n",
      "       total night minutes  total night calls  total night charge  \\\n",
      "state                                                               \n",
      "KS                0.866743          -0.465494            0.866029   \n",
      "OH                1.058571           0.147825            1.059390   \n",
      "NJ               -0.756869           0.198935           -0.755571   \n",
      "OH               -0.078551          -0.567714           -0.078806   \n",
      "OK               -0.276311           1.067803           -0.276562   \n",
      "\n",
      "       total intl minutes  total intl calls  total intl charge  \\\n",
      "state                                                            \n",
      "KS              -0.085008         -0.601195          -0.085690   \n",
      "OH               1.240482         -0.601195           1.241169   \n",
      "NJ               0.703121          0.211534           0.697156   \n",
      "OH              -1.303026          1.024263          -1.306401   \n",
      "OK              -0.049184         -0.601195          -0.045885   \n",
      "\n",
      "       customer service calls  number vmail messages  usage_Medium  \\\n",
      "state                                                                \n",
      "KS                  -0.427932               1.234883           0.0   \n",
      "OH                  -0.427932               1.307948           0.0   \n",
      "NJ                  -1.188218              -0.591760           0.0   \n",
      "OH                   0.332354              -0.591760           0.0   \n",
      "OK                   1.092641              -0.591760           0.0   \n",
      "\n",
      "       usage_High  service_Medium  service_High  \n",
      "state                                            \n",
      "KS            0.0             1.0           0.0  \n",
      "OH            1.0             1.0           0.0  \n",
      "NJ            0.0             1.0           0.0  \n",
      "OH            0.0             1.0           0.0  \n",
      "OK            1.0             1.0           0.0  \n"
     ]
    }
   ],
   "source": [
    "#  ONE-HOT ENCODING\n",
    "\n",
    "print(\"\\nApplying One-Hot Encoding...\")\n",
    "\n",
    "from sklearn.preprocessing import OneHotEncoder\n",
    "import pandas as pd\n",
    "\n",
    "# Create simple categorical features\n",
    "df['usage_level'] = pd.cut(df['total day minutes'], bins=3, labels=['Low', 'Medium', 'High'])\n",
    "df['service_level'] = pd.cut(df['customer service calls'], bins=3, labels=['Low', 'Medium', 'High'])\n",
    "\n",
    "# Remove rows with NaN values\n",
    "df_clean = df.dropna()\n",
    "\n",
    "# One-hot encode\n",
    "encoder = OneHotEncoder(drop='first', sparse=False)\n",
    "categorical_data = df_clean[['usage_level', 'service_level']]\n",
    "encoded_array = encoder.fit_transform(categorical_data)\n",
    "\n",
    "# Create final dataset\n",
    "encoded_columns = ['usage_Medium', 'usage_High', 'service_Medium', 'service_High']\n",
    "encoded_df = pd.DataFrame(encoded_array, columns=encoded_columns, index=df_clean.index)\n",
    "\n",
    "# Combine with original features\n",
    "df_final = pd.concat([df_clean[features], encoded_df], axis=1)\n",
    "\n",
    "print(f\"Final dataset shape: {df_final.shape}\")\n",
    "print(\"✓ One-hot encoding complete!\")\n",
    "print(df_final.head())"
   ]
  },
  {
   "cell_type": "markdown",
   "id": "9b22bc72",
   "metadata": {},
   "source": [
    "### Simple and Multiple Logistic Regression"
   ]
  },
  {
   "cell_type": "code",
   "execution_count": 212,
   "id": "bba7358a",
   "metadata": {},
   "outputs": [
    {
     "name": "stdout",
     "output_type": "stream",
     "text": [
      "Simple model (service_Medium): 0.849\n",
      "Multiple model (all features): 0.853\n",
      "Best model: Multiple\n"
     ]
    }
   ],
   "source": [
    "# Prepare data\n",
    "X = df_final  # Features after one-hot encoding\n",
    "y = df_clean['churn_binary']  # Target\n",
    "\n",
    "# Train-test split\n",
    "X_train, X_test, y_train, y_test = train_test_split(X, y, test_size=0.2, random_state=42)\n",
    "\n",
    "# 1. Simple model (best single feature)\n",
    "best_feature = X.corrwith(y).abs().idxmax()\n",
    "simple_model = LogisticRegression(random_state=42)\n",
    "simple_model.fit(X_train[[best_feature]], y_train)\n",
    "simple_acc = accuracy_score(y_test, simple_model.predict(X_test[[best_feature]]))\n",
    "\n",
    "# 2. Multiple model (all features)\n",
    "multiple_model = LogisticRegression(random_state=42, max_iter=1000)\n",
    "multiple_model.fit(X_train, y_train)\n",
    "multiple_acc = accuracy_score(y_test, multiple_model.predict(X_test))\n",
    "\n",
    "# Results\n",
    "print(f\"Simple model ({best_feature}): {simple_acc:.3f}\")\n",
    "print(f\"Multiple model (all features): {multiple_acc:.3f}\")\n",
    "print(f\"Best model: {'Multiple' if multiple_acc > simple_acc else 'Simple'}\")"
   ]
  },
  {
   "cell_type": "code",
   "execution_count": 213,
   "id": "735bfad6",
   "metadata": {},
   "outputs": [
    {
     "name": "stdout",
     "output_type": "stream",
     "text": [
      "Simple model (service_Medium):\n",
      "  Accuracy: 0.849\n",
      "  R-squared: 0.064\n",
      "\n",
      "Multiple model (all features):\n",
      "  Accuracy: 0.853\n",
      "  R-squared: 0.244\n",
      "\n",
      "Best model: Multiple\n"
     ]
    }
   ],
   "source": [
    "# Calculate R-squared (Pseudo R-squared for logistic regression)\n",
    "from sklearn.metrics import log_loss\n",
    "\n",
    "# Calculate pseudo R-squared (McFadden's R-squared)\n",
    "def pseudo_r_squared(y_true, y_pred_proba):\n",
    "    # Null model (intercept only)\n",
    "    null_prob = np.full(len(y_true), y_true.mean())\n",
    "    null_ll = -log_loss(y_true, null_prob)\n",
    "    \n",
    "    # Full model\n",
    "    full_ll = -log_loss(y_true, y_pred_proba)\n",
    "    \n",
    "    # McFadden's Pseudo R-squared\n",
    "    return 1 - (full_ll / null_ll)\n",
    "\n",
    "# Get predictions and probabilities\n",
    "simple_pred_proba = simple_model.predict_proba(X_test[[best_feature]])[:, 1]\n",
    "multiple_pred_proba = multiple_model.predict_proba(X_test)[:, 1]\n",
    "\n",
    "# Calculate pseudo R-squared\n",
    "simple_r2 = pseudo_r_squared(y_test, simple_pred_proba)\n",
    "multiple_r2 = pseudo_r_squared(y_test, multiple_pred_proba)\n",
    "\n",
    "# Results with R-squared\n",
    "print(f\"Simple model ({best_feature}):\")\n",
    "print(f\"  Accuracy: {simple_acc:.3f}\")\n",
    "print(f\"  R-squared: {simple_r2:.3f}\")\n",
    "print(f\"\\nMultiple model (all features):\")\n",
    "print(f\"  Accuracy: {multiple_acc:.3f}\")\n",
    "print(f\"  R-squared: {multiple_r2:.3f}\")\n",
    "print(f\"\\nBest model: {'Multiple' if multiple_acc > simple_acc else 'Simple'}\")\n"
   ]
  },
  {
   "cell_type": "markdown",
   "id": "a3460c98",
   "metadata": {},
   "source": [
    "### Visualisation of the two models"
   ]
  },
  {
   "cell_type": "code",
   "execution_count": 214,
   "id": "cd1df53c",
   "metadata": {},
   "outputs": [
    {
     "data": {
      "image/png": "[encoded data removed]",
      "text/plain": [
       "<Figure size 1080x360 with 3 Axes>"
      ]
     },
     "metadata": {
      "needs_background": "light"
     },
     "output_type": "display_data"
    }
   ],
   "source": [
    "# Visualization with R-squared\n",
    "import matplotlib.pyplot as plt\n",
    "import numpy as np\n",
    "\n",
    "fig, (ax1, ax2, ax3) = plt.subplots(1, 3, figsize=(15, 5))\n",
    "\n",
    "# 1. Accuracy comparison\n",
    "models = ['Simple', 'Multiple']\n",
    "accuracies = [simple_acc, multiple_acc]\n",
    "colors = ['lightblue', 'darkblue']\n",
    "\n",
    "bars1 = ax1.bar(models, accuracies, color=colors)\n",
    "ax1.set_title('Model Accuracy', fontweight='bold')\n",
    "ax1.set_ylabel('Accuracy')\n",
    "ax1.set_ylim(0, 1)\n",
    "\n",
    "for bar, acc in zip(bars1, accuracies):\n",
    "    ax1.text(bar.get_x() + bar.get_width()/2, bar.get_height() + 0.01, \n",
    "             f'{acc:.3f}', ha='center', va='bottom', fontweight='bold')\n",
    "\n",
    "# 2. R-squared comparison\n",
    "r_squared_values = [simple_r2, multiple_r2]\n",
    "bars2 = ax2.bar(models, r_squared_values, color=['lightcoral', 'darkred'])\n",
    "ax2.set_title('Model R-squared', fontweight='bold')\n",
    "ax2.set_ylabel('Pseudo R-squared')\n",
    "ax2.set_ylim(0, max(r_squared_values) * 1.2)\n",
    "\n",
    "for bar, r2 in zip(bars2, r_squared_values):\n",
    "    ax2.text(bar.get_x() + bar.get_width()/2, bar.get_height() + 0.005, \n",
    "             f'{r2:.3f}', ha='center', va='bottom', fontweight='bold')\n",
    "\n",
    "# 3. Feature importance (top 5)\n",
    "feature_importance = np.abs(multiple_model.coef_[0])\n",
    "feature_names = X.columns\n",
    "top_5_idx = np.argsort(feature_importance)[-5:]\n",
    "top_5_features = feature_names[top_5_idx]\n",
    "top_5_importance = feature_importance[top_5_idx]\n",
    "\n",
    "ax3.barh(range(5), top_5_importance, color='coral')\n",
    "ax3.set_yticks(range(5))\n",
    "ax3.set_yticklabels(top_5_features)\n",
    "ax3.set_title('Top 5 Important Features', fontweight='bold')\n",
    "ax3.set_xlabel('Importance (|Coefficient|)')\n",
    "\n",
    "plt.tight_layout()\n",
    "plt.show()"
   ]
  },
  {
   "cell_type": "markdown",
   "id": "f38db562",
   "metadata": {},
   "source": [
    "## Customer Churn Prediction - Decision Tree Analysis\n"
   ]
  },
  {
   "cell_type": "markdown",
   "id": "65a3de83",
   "metadata": {},
   "source": [
    "Preparing Data, Train test spliting and creating the decision tree model"
   ]
  },
  {
   "cell_type": "code",
   "execution_count": 215,
   "id": "3e58ac70",
   "metadata": {},
   "outputs": [
    {
     "name": "stdout",
     "output_type": "stream",
     "text": [
      "Decision Tree Accuracy: 0.895\n",
      "Tree depth: 4\n",
      "Tree leaves: 10\n"
     ]
    }
   ],
   "source": [
    "# Prepare data\n",
    "X = df_final  # Standardized + one-hot encoded features\n",
    "y = df_clean['churn_binary']\n",
    "\n",
    "# Train-test split\n",
    "X_train, X_test, y_train, y_test = train_test_split(X, y, test_size=0.2, random_state=42)\n",
    "\n",
    "# Train decision tree\n",
    "dt_model = DecisionTreeClassifier(max_depth=4, min_samples_leaf=50, random_state=42)\n",
    "dt_model.fit(X_train, y_train)\n",
    "\n",
    "# Test performance\n",
    "dt_pred = dt_model.predict(X_test)\n",
    "dt_accuracy = accuracy_score(y_test, dt_pred)\n",
    "\n",
    "print(f\"Decision Tree Accuracy: {dt_accuracy:.3f}\")\n",
    "print(f\"Tree depth: {dt_model.get_depth()}\")\n",
    "print(f\"Tree leaves: {dt_model.get_n_leaves()}\")"
   ]
  },
  {
   "cell_type": "markdown",
   "id": "f470cdb5",
   "metadata": {},
   "source": [
    "### Visualizing of the decision Tree Model"
   ]
  },
  {
   "cell_type": "code",
   "execution_count": 216,
   "id": "2918987f",
   "metadata": {},
   "outputs": [
    {
     "data": {
      "image/png": "[encoded data removed]",
      "text/plain": [
       "<Figure size 1080x360 with 3 Axes>"
      ]
     },
     "metadata": {
      "needs_background": "light"
     },
     "output_type": "display_data"
    },
    {
     "name": "stdout",
     "output_type": "stream",
     "text": [
      "\n",
      "Top 5 Most Important Features:\n",
      "total intl minutes       : 0.019\n",
      "total eve minutes        : 0.156\n",
      "total day charge         : 0.179\n",
      "service_Medium           : 0.288\n",
      "total day minutes        : 0.342\n"
     ]
    }
   ],
   "source": [
    "# Visualization\n",
    "fig, (ax1, ax2, ax3) = plt.subplots(1, 3, figsize=(15, 5))\n",
    "\n",
    "# 1. Feature importance\n",
    "feature_importance = dt_model.feature_importances_\n",
    "top_5_idx = np.argsort(feature_importance)[-5:]\n",
    "top_5_features = X.columns[top_5_idx]\n",
    "top_5_importance = feature_importance[top_5_idx]\n",
    "\n",
    "ax1.barh(range(5), top_5_importance, color='lightgreen')\n",
    "ax1.set_yticks(range(5))\n",
    "ax1.set_yticklabels(top_5_features)\n",
    "ax1.set_title('Top 5 Important Features', fontweight='bold')\n",
    "ax1.set_xlabel('Importance')\n",
    "\n",
    "# 2. Model comparison (if logistic regression was run before)\n",
    "try:\n",
    "    models = ['Decision Tree', 'Logistic Reg']\n",
    "    accuracies = [dt_accuracy, multiple_acc]\n",
    "    colors = ['lightgreen', 'darkblue']\n",
    "    \n",
    "    bars = ax2.bar(models, accuracies, color=colors)\n",
    "    ax2.set_title('Model Comparison', fontweight='bold')\n",
    "    ax2.set_ylabel('Accuracy')\n",
    "    ax2.set_ylim(0, 1)\n",
    "    \n",
    "    for bar, acc in zip(bars, accuracies):\n",
    "        ax2.text(bar.get_x() + bar.get_width()/2, bar.get_height() + 0.01, \n",
    "                 f'{acc:.3f}', ha='center', va='bottom', fontweight='bold')\n",
    "                 \n",
    "except NameError:\n",
    "    # If logistic regression wasn't run, show single bar\n",
    "    ax2.bar(['Decision Tree'], [dt_accuracy], color='lightgreen')\n",
    "    ax2.set_title('Decision Tree Accuracy', fontweight='bold')\n",
    "    ax2.set_ylabel('Accuracy')\n",
    "    ax2.text(0, dt_accuracy + 0.01, f'{dt_accuracy:.3f}', ha='center', fontweight='bold')\n",
    "\n",
    "# 3. Confusion matrix\n",
    "from sklearn.metrics import confusion_matrix\n",
    "cm = confusion_matrix(y_test, dt_pred)\n",
    "\n",
    "ax3.imshow(cm, interpolation='nearest', cmap='Blues')\n",
    "ax3.set_title('Confusion Matrix', fontweight='bold')\n",
    "\n",
    "# Add text annotations\n",
    "for i in range(2):\n",
    "    for j in range(2):\n",
    "        ax3.text(j, i, f'{cm[i, j]}', ha='center', va='center', \n",
    "                fontsize=20, fontweight='bold')\n",
    "\n",
    "ax3.set_xlabel('Predicted')\n",
    "ax3.set_ylabel('Actual')\n",
    "ax3.set_xticks([0, 1])\n",
    "ax3.set_xticklabels(['No Churn', 'Churn'])\n",
    "ax3.set_yticks([0, 1])\n",
    "ax3.set_yticklabels(['No Churn', 'Churn'])\n",
    "\n",
    "plt.tight_layout()\n",
    "plt.show()\n",
    "\n",
    "# Print top features\n",
    "print(f\"\\nTop 5 Most Important Features:\")\n",
    "for feature, importance in zip(top_5_features, top_5_importance):\n",
    "    print(f\"{feature:<25}: {importance:.3f}\")"
   ]
  },
  {
   "cell_type": "markdown",
   "id": "e55e1098",
   "metadata": {},
   "source": [
    "### Comparing Simple Simple and multiple Logistics regression and Decision Trees models"
   ]
  },
  {
   "cell_type": "code",
   "execution_count": 217,
   "id": "6716930b",
   "metadata": {},
   "outputs": [
    {
     "name": "stdout",
     "output_type": "stream",
     "text": [
      "MODEL COMPARISON RESULTS\n",
      "==============================\n",
      "Decision Tree     : 0.895\n",
      "Multiple Logistic : 0.853\n",
      "Simple Logistic   : 0.849\n",
      "\n",
      " WINNER: Decision Tree (0.895)\n"
     ]
    },
    {
     "data": {
      "image/png": "[encoded data removed]",
      "text/plain": [
       "<Figure size 864x360 with 2 Axes>"
      ]
     },
     "metadata": {
      "needs_background": "light"
     },
     "output_type": "display_data"
    },
    {
     "name": "stdout",
     "output_type": "stream",
     "text": [
      "\n",
      "SUMMARY:\n",
      "Best performing model: Decision Tree\n",
      "Accuracy range: 0.849 - 0.895\n",
      "Improvement: 0.046\n"
     ]
    }
   ],
   "source": [
    "\n",
    "# MODEL COMPARISON \n",
    "\n",
    "\n",
    "# Collect all model results\n",
    "models = ['Simple Logistic', 'Multiple Logistic', 'Decision Tree']\n",
    "accuracies = [simple_acc, multiple_acc, dt_accuracy]\n",
    "\n",
    "# Create comparison DataFrame\n",
    "comparison_df = pd.DataFrame({\n",
    "    'Model': models,\n",
    "    'Accuracy': accuracies\n",
    "}).sort_values('Accuracy', ascending=False)\n",
    "\n",
    "# Print results\n",
    "print(\"MODEL COMPARISON RESULTS\")\n",
    "print(\"=\" * 30)\n",
    "for _, row in comparison_df.iterrows():\n",
    "    print(f\"{row['Model']:<18}: {row['Accuracy']:.3f}\")\n",
    "\n",
    "best_model = comparison_df.iloc[0]['Model']\n",
    "best_accuracy = comparison_df.iloc[0]['Accuracy']\n",
    "print(f\"\\n WINNER: {best_model} ({best_accuracy:.3f})\")\n",
    "\n",
    "# Simple visualization\n",
    "fig, (ax1, ax2) = plt.subplots(1, 2, figsize=(12, 5))\n",
    "\n",
    "# 1. Model accuracy comparison\n",
    "colors = ['Yellow', 'Blue', 'Green'][:len(models)]\n",
    "bars = ax1.bar(comparison_df['Model'], comparison_df['Accuracy'], color=colors)\n",
    "ax1.set_title('Model Accuracy Comparison', fontweight='bold')\n",
    "ax1.set_ylabel('Accuracy')\n",
    "ax1.set_ylim(0, 1)\n",
    "ax1.tick_params(axis='x', rotation=45)\n",
    "\n",
    "# Add accuracy labels\n",
    "for bar, acc in zip(bars, comparison_df['Accuracy']):\n",
    "    ax1.text(bar.get_x() + bar.get_width()/2, bar.get_height() + 0.01, \n",
    "             f'{acc:.3f}', ha='center', va='bottom', fontweight='bold')\n",
    "\n",
    "# 2. Performance difference\n",
    "baseline = min(accuracies)\n",
    "improvements = [acc - baseline for acc in comparison_df['Accuracy']]\n",
    "\n",
    "ax2.bar(comparison_df['Model'], improvements, color=colors)\n",
    "ax2.set_title('Improvement Over Worst Model', fontweight='bold')\n",
    "ax2.set_ylabel('Accuracy Improvement')\n",
    "ax2.tick_params(axis='x', rotation=45)\n",
    "\n",
    "# Add improvement labels\n",
    "for i, (model, improvement) in enumerate(zip(comparison_df['Model'], improvements)):\n",
    "    ax2.text(i, improvement + 0.002, f'+{improvement:.3f}', \n",
    "             ha='center', va='bottom', fontweight='bold')\n",
    "\n",
    "plt.tight_layout()\n",
    "plt.show()\n",
    "\n",
    "# Summary\n",
    "print(f\"\\nSUMMARY:\")\n",
    "print(f\"Best performing model: {best_model}\")\n",
    "print(f\"Accuracy range: {min(accuracies):.3f} - {max(accuracies):.3f}\")\n",
    "print(f\"Improvement: {max(accuracies) - min(accuracies):.3f}\")\n"
   ]
  },
  {
   "cell_type": "markdown",
   "id": "d0ab3add",
   "metadata": {},
   "source": [
    "### Business Insights"
   ]
  },
  {
   "cell_type": "code",
   "execution_count": 218,
   "id": "a8396c95",
   "metadata": {},
   "outputs": [
    {
     "name": "stdout",
     "output_type": "stream",
     "text": [
      "BUSINESS INSIGHTS\n",
      "==============================\n",
      "CHURN ANALYSIS:\n",
      "   • Total customers analyzed: 667\n",
      "   • Current churn rate: 14.5%\n",
      "   • Actual churners: 101 customers\n",
      "\n",
      " MODEL PERFORMANCE:\n",
      "   • Best model: Decision Tree\n",
      "   • Accuracy: 89.5%\n",
      "   • Churners detected: 58/101 (57.4%)\n",
      "\n",
      " BUSINESS IMPACT:\n",
      "   • Average customer value: $50/month\n",
      "   • Potential monthly savings: $2,900\n",
      "   • Potential annual savings: $34,800\n",
      "\n",
      " KEY FINDINGS:\n",
      "   • Decision trees work best (interpretable rules)\n",
      "   • Clear decision paths for staff to follow\n",
      "\n",
      " RECOMMENDATIONS:\n",
      "   1. Deploy Decision Tree for churn prediction\n",
      "   2. Target 85 high-risk customers monthly\n",
      "   3. Focus on top predictive features\n",
      "   4. Expected ROI: 0.7x on retention investment\n",
      "\n",
      " ANSWER: YES, churn is predictable with 89.5% accuracy!\n"
     ]
    }
   ],
   "source": [
    "#BUSINESS INSIGHTS\n",
    "\n",
    "# Get best model and key metrics\n",
    "best_model = comparison_df.iloc[0]['Model']\n",
    "best_accuracy = comparison_df.iloc[0]['Accuracy']\n",
    "churn_rate = y.mean()\n",
    "\n",
    "# Business calculations\n",
    "total_customers = len(y_test)\n",
    "actual_churners = y_test.sum()\n",
    "predicted_churners = dt_pred.sum()  # Using decision tree predictions\n",
    "correctly_identified = ((y_test == 1) & (dt_pred == 1)).sum()\n",
    "\n",
    "print(\"BUSINESS INSIGHTS\")\n",
    "print(\"=\" * 30)\n",
    "\n",
    "print(f\"CHURN ANALYSIS:\")\n",
    "print(f\"   • Total customers analyzed: {total_customers:,}\")\n",
    "print(f\"   • Current churn rate: {churn_rate:.1%}\")\n",
    "print(f\"   • Actual churners: {actual_churners} customers\")\n",
    "\n",
    "print(f\"\\n MODEL PERFORMANCE:\")\n",
    "print(f\"   • Best model: {best_model}\")\n",
    "print(f\"   • Accuracy: {best_accuracy:.1%}\")\n",
    "print(f\"   • Churners detected: {correctly_identified}/{actual_churners} ({correctly_identified/actual_churners:.1%})\")\n",
    "\n",
    "print(f\"\\n BUSINESS IMPACT:\")\n",
    "avg_customer_value = 50  # Monthly value per customer\n",
    "retention_rate = correctly_identified / actual_churners\n",
    "monthly_savings = correctly_identified * avg_customer_value\n",
    "annual_savings = monthly_savings * 12\n",
    "\n",
    "print(f\"   • Average customer value: ${avg_customer_value}/month\")\n",
    "print(f\"   • Potential monthly savings: ${monthly_savings:,}\")\n",
    "print(f\"   • Potential annual savings: ${annual_savings:,}\")\n",
    "\n",
    "print(f\"\\n KEY FINDINGS:\")\n",
    "if best_model == 'Decision Tree':\n",
    "    print(f\"   • Decision trees work best (interpretable rules)\")\n",
    "    print(f\"   • Clear decision paths for staff to follow\")\n",
    "elif best_model == 'Multiple Logistic':\n",
    "    print(f\"   • Multiple features improve prediction\")\n",
    "    print(f\"   • Complex patterns identified\")\n",
    "else:\n",
    "    print(f\"   • Simple approach works well\")\n",
    "    print(f\"   • Single feature sufficient for prediction\")\n",
    "\n",
    "print(f\"\\n RECOMMENDATIONS:\")\n",
    "print(f\"   1. Deploy {best_model} for churn prediction\")\n",
    "print(f\"   2. Target {predicted_churners} high-risk customers monthly\")\n",
    "print(f\"   3. Focus on top predictive features\")\n",
    "print(f\"   4. Expected ROI: {annual_savings/50000:.1f}x on retention investment\")\n",
    "\n",
    "print(f\"\\n ANSWER: YES, churn is predictable with {best_accuracy:.1%} accuracy!\")"
   ]
  }
 ],
 "metadata": {
  "kernelspec": {
   "display_name": "learn-env",
   "language": "python",
   "name": "python3"
  },
  "language_info": {
   "codemirror_mode": {
    "name": "ipython",
    "version": 3
   },
   "file_extension": ".py",
   "mimetype": "text/x-python",
   "name": "python",
   "nbconvert_exporter": "python",
   "pygments_lexer": "ipython3",
   "version": "3.8.5"
  }
 },
 "nbformat": 4,
 "nbformat_minor": 5
}
